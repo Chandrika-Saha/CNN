{
 "cells": [
  {
   "cell_type": "code",
   "execution_count": 1,
   "metadata": {},
   "outputs": [
    {
     "name": "stderr",
     "output_type": "stream",
     "text": [
      "E:\\Users\\Arnab\\Anaconda3\\Lib\\site-packages\\h5py\\__init__.py:36: FutureWarning: Conversion of the second argument of issubdtype from `float` to `np.floating` is deprecated. In future, it will be treated as `np.float64 == np.dtype(float).type`.\n",
      "  from ._conv import register_converters as _register_converters\n",
      "Using TensorFlow backend.\n"
     ]
    }
   ],
   "source": [
    "from keras.models import Sequential\n",
    "from keras.optimizers import Adam\n",
    "from keras.layers import Conv2D, MaxPooling2D, Flatten, Dense, Dropout\n",
    "from keras.preprocessing.image import ImageDataGenerator\n",
    "import time\n",
    "from keras.callbacks import TensorBoard\n",
    "import numpy as np\n",
    "from sklearn.metrics import classification_report, confusion_matrix\n",
    "from keras.callbacks import History\n",
    "from matplotlib import pyplot as plt\n",
    "from keras.utils.vis_utils import plot_model"
   ]
  },
  {
   "cell_type": "code",
   "execution_count": 2,
   "metadata": {},
   "outputs": [],
   "source": [
    "i = 224"
   ]
  },
  {
   "cell_type": "code",
   "execution_count": 3,
   "metadata": {},
   "outputs": [],
   "source": [
    "model = Sequential()"
   ]
  },
  {
   "cell_type": "code",
   "execution_count": 4,
   "metadata": {},
   "outputs": [
    {
     "name": "stdout",
     "output_type": "stream",
     "text": [
      "Bangla_Compound_DCNN171_lr0.0001-1550464584\n"
     ]
    }
   ],
   "source": [
    "NAME = \"Bangla_Compound_DCNN171_lr0.0001-{}\".format(int(time.time()))\n",
    "print(NAME)\n",
    "tensorboard = TensorBoard(log_dir='logs/{}'.format(NAME), histogram_freq=0, write_images=True, write_graph=True, update_freq='epoch')\n",
    "\n"
   ]
  },
  {
   "cell_type": "code",
   "execution_count": 5,
   "metadata": {},
   "outputs": [
    {
     "name": "stdout",
     "output_type": "stream",
     "text": [
      "Found 33282 images belonging to 171 classes.\n",
      "Found 8254 images belonging to 171 classes.\n"
     ]
    }
   ],
   "source": [
    "train_data = ImageDataGenerator(rescale=1./255)\n",
    "test_data = ImageDataGenerator(rescale=1./255)\n",
    "\n",
    "training = train_data.flow_from_directory('trainC',target_size=(i,i), batch_size=64,class_mode='categorical')\n",
    "test = test_data.flow_from_directory('testC',target_size=(i,i), batch_size=64,class_mode='categorical')"
   ]
  },
  {
   "cell_type": "code",
   "execution_count": 6,
   "metadata": {},
   "outputs": [
    {
     "name": "stdout",
     "output_type": "stream",
     "text": [
      "Epoch 1/40\n",
      "521/521 [==============================] - 506s 971ms/step - loss: 4.1236 - acc: 0.1237 - val_loss: 4.0099 - val_acc: 0.3414\n",
      "Epoch 2/40\n",
      "521/521 [==============================] - 138s 264ms/step - loss: 1.9763 - acc: 0.4794 - val_loss: 2.9692 - val_acc: 0.6321\n",
      "Epoch 3/40\n",
      "521/521 [==============================] - 156s 299ms/step - loss: 1.0718 - acc: 0.6915 - val_loss: 2.3052 - val_acc: 0.7568\n",
      "Epoch 4/40\n",
      "521/521 [==============================] - 140s 270ms/step - loss: 0.6975 - acc: 0.7892 - val_loss: 1.9583 - val_acc: 0.8197\n",
      "Epoch 5/40\n",
      "521/521 [==============================] - 138s 266ms/step - loss: 0.4934 - acc: 0.8491 - val_loss: 1.6098 - val_acc: 0.8400\n",
      "Epoch 6/40\n",
      "521/521 [==============================] - 138s 265ms/step - loss: 0.3690 - acc: 0.8825 - val_loss: 1.4213 - val_acc: 0.8652\n",
      "Epoch 7/40\n",
      "521/521 [==============================] - 138s 265ms/step - loss: 0.3008 - acc: 0.9039 - val_loss: 1.1328 - val_acc: 0.8728\n",
      "Epoch 8/40\n",
      "521/521 [==============================] - 137s 264ms/step - loss: 0.2363 - acc: 0.9240 - val_loss: 1.0481 - val_acc: 0.8913\n",
      "Epoch 9/40\n",
      "521/521 [==============================] - 139s 266ms/step - loss: 0.1809 - acc: 0.9400 - val_loss: 0.9443 - val_acc: 0.8807\n",
      "Epoch 10/40\n",
      "521/521 [==============================] - 138s 265ms/step - loss: 0.1628 - acc: 0.9448 - val_loss: 0.8668 - val_acc: 0.8883\n",
      "Epoch 11/40\n",
      "521/521 [==============================] - 139s 266ms/step - loss: 0.1373 - acc: 0.9548 - val_loss: 0.7781 - val_acc: 0.8947\n",
      "Epoch 12/40\n",
      "521/521 [==============================] - 138s 266ms/step - loss: 0.1186 - acc: 0.9595 - val_loss: 0.7524 - val_acc: 0.8936\n",
      "Epoch 13/40\n",
      "521/521 [==============================] - 138s 265ms/step - loss: 0.1039 - acc: 0.9650 - val_loss: 0.7234 - val_acc: 0.8931\n",
      "Epoch 14/40\n",
      "521/521 [==============================] - 140s 268ms/step - loss: 0.0922 - acc: 0.9699 - val_loss: 0.6523 - val_acc: 0.9009\n",
      "Epoch 15/40\n",
      "521/521 [==============================] - 138s 266ms/step - loss: 0.0899 - acc: 0.9701 - val_loss: 0.6453 - val_acc: 0.8992\n",
      "Epoch 16/40\n",
      "521/521 [==============================] - 138s 266ms/step - loss: 0.0764 - acc: 0.9749 - val_loss: 0.6060 - val_acc: 0.9037\n",
      "Epoch 17/40\n",
      "521/521 [==============================] - 138s 266ms/step - loss: 0.0703 - acc: 0.9762 - val_loss: 0.5474 - val_acc: 0.9220\n",
      "Epoch 18/40\n",
      "521/521 [==============================] - 139s 267ms/step - loss: 0.0663 - acc: 0.9771 - val_loss: 0.5797 - val_acc: 0.9157\n",
      "Epoch 19/40\n",
      "521/521 [==============================] - 139s 266ms/step - loss: 0.0714 - acc: 0.9766 - val_loss: 0.5489 - val_acc: 0.9203\n",
      "Epoch 20/40\n",
      "521/521 [==============================] - 138s 265ms/step - loss: 0.0518 - acc: 0.9830 - val_loss: 0.5193 - val_acc: 0.9175\n",
      "Epoch 21/40\n",
      "521/521 [==============================] - 139s 266ms/step - loss: 0.0539 - acc: 0.9820 - val_loss: 0.5394 - val_acc: 0.9204\n",
      "Epoch 22/40\n",
      "521/521 [==============================] - 138s 266ms/step - loss: 0.0532 - acc: 0.9824 - val_loss: 0.5465 - val_acc: 0.9163\n",
      "Epoch 23/40\n",
      "521/521 [==============================] - 138s 266ms/step - loss: 0.0481 - acc: 0.9843 - val_loss: 0.5115 - val_acc: 0.9254\n",
      "Epoch 24/40\n",
      "521/521 [==============================] - 138s 266ms/step - loss: 0.0514 - acc: 0.9830 - val_loss: 0.5260 - val_acc: 0.9246\n",
      "Epoch 25/40\n",
      "521/521 [==============================] - 138s 266ms/step - loss: 0.0396 - acc: 0.9870 - val_loss: 0.4797 - val_acc: 0.9277\n",
      "Epoch 26/40\n",
      "521/521 [==============================] - 138s 265ms/step - loss: 0.0409 - acc: 0.9868 - val_loss: 0.5197 - val_acc: 0.9265\n",
      "Epoch 27/40\n",
      "521/521 [==============================] - 138s 266ms/step - loss: 0.0351 - acc: 0.9879 - val_loss: 0.4506 - val_acc: 0.9171\n",
      "Epoch 28/40\n",
      "521/521 [==============================] - 139s 267ms/step - loss: 0.0389 - acc: 0.9870 - val_loss: 0.4451 - val_acc: 0.9292\n",
      "Epoch 29/40\n",
      "521/521 [==============================] - 139s 266ms/step - loss: 0.0332 - acc: 0.9887 - val_loss: 0.4254 - val_acc: 0.9280\n",
      "Epoch 30/40\n",
      "521/521 [==============================] - 138s 265ms/step - loss: 0.0310 - acc: 0.9889 - val_loss: 0.4098 - val_acc: 0.9313\n",
      "Epoch 31/40\n",
      "521/521 [==============================] - 138s 266ms/step - loss: 0.0317 - acc: 0.9894 - val_loss: 0.3936 - val_acc: 0.9301\n",
      "Epoch 32/40\n",
      "521/521 [==============================] - 139s 266ms/step - loss: 0.0307 - acc: 0.9898 - val_loss: 0.4277 - val_acc: 0.9225\n",
      "Epoch 33/40\n",
      "521/521 [==============================] - 140s 268ms/step - loss: 0.0297 - acc: 0.9911 - val_loss: 0.4363 - val_acc: 0.9234\n",
      "Epoch 34/40\n",
      "521/521 [==============================] - 139s 267ms/step - loss: 0.0281 - acc: 0.9906 - val_loss: 0.3932 - val_acc: 0.9233\n",
      "Epoch 35/40\n",
      "521/521 [==============================] - 141s 270ms/step - loss: 0.0294 - acc: 0.9907 - val_loss: 0.3870 - val_acc: 0.9323\n",
      "Epoch 36/40\n",
      "521/521 [==============================] - 140s 269ms/step - loss: 0.0274 - acc: 0.9909 - val_loss: 0.4348 - val_acc: 0.9276\n",
      "Epoch 37/40\n",
      "521/521 [==============================] - 139s 267ms/step - loss: 0.0262 - acc: 0.9918 - val_loss: 0.3907 - val_acc: 0.9213\n",
      "Epoch 38/40\n",
      "521/521 [==============================] - 139s 266ms/step - loss: 0.0292 - acc: 0.9911 - val_loss: 0.3943 - val_acc: 0.9294\n",
      "Epoch 39/40\n",
      "521/521 [==============================] - 139s 267ms/step - loss: 0.0236 - acc: 0.9919 - val_loss: 0.3865 - val_acc: 0.9208\n",
      "Epoch 40/40\n",
      "521/521 [==============================] - 139s 267ms/step - loss: 0.0226 - acc: 0.9928 - val_loss: 0.3626 - val_acc: 0.9387\n"
     ]
    },
    {
     "data": {
      "text/plain": [
       "<keras.callbacks.History at 0x128cda20>"
      ]
     },
     "execution_count": 6,
     "metadata": {},
     "output_type": "execute_result"
    }
   ],
   "source": [
    "model.add(Conv2D(32,(3,3),input_shape=(i,i,3),padding=\"same\",activation=\"relu\"))\n",
    "model.add(MaxPooling2D(pool_size=(2,2)))\n",
    "\n",
    "model.add(Conv2D(32,(3,3),padding=\"same\",activation=\"relu\"))\n",
    "model.add(Dropout(0.1))\n",
    "model.add(MaxPooling2D(pool_size=(2,2)))\n",
    "\n",
    "model.add(Conv2D(64,(3,3),padding=\"same\",activation=\"relu\"))\n",
    "model.add(Dropout(0.25))\n",
    "model.add(MaxPooling2D(pool_size=(2,2)))\n",
    "\n",
    "model.add(Conv2D(64,(3,3),padding=\"same\",activation=\"relu\"))\n",
    "model.add(Dropout(0.5))\n",
    "model.add(MaxPooling2D(pool_size=(2,2)))\n",
    "\n",
    "model.add(Conv2D(128,(3,3),padding=\"same\",activation=\"relu\"))\n",
    "model.add(Dropout(0.5))\n",
    "model.add(MaxPooling2D(pool_size=(2,2)))\n",
    "\n",
    "model.add(Conv2D(512,(3,3),padding=\"same\",activation=\"relu\"))\n",
    "model.add(Dropout(0.25))\n",
    "model.add(MaxPooling2D(pool_size=(2,2)))\n",
    "\n",
    "model.add(Flatten())\n",
    "\n",
    "model.add(Dense(1024,activation=\"relu\"))\n",
    "model.add(Dropout(0.1))\n",
    "model.add(Dense(512,activation=\"relu\"))\n",
    "\n",
    "model.add(Dense(units=171,activation=\"softmax\"))\n",
    "history = History()\n",
    "opt= Adam(lr=.0001, beta_1=0.9, beta_2=0.999)\n",
    "model.compile(optimizer=opt, loss = \"categorical_crossentropy\", metrics= [\"accuracy\"])\n",
    "\n",
    "model.fit_generator(training, epochs=40, validation_data=test, callbacks=[tensorboard,history])\n"
   ]
  },
  {
   "cell_type": "code",
   "execution_count": 8,
   "metadata": {},
   "outputs": [
    {
     "ename": "AttributeError",
     "evalue": "'History' object has no attribute 'history'",
     "output_type": "error",
     "traceback": [
      "\u001b[1;31m---------------------------------------------------------------------------\u001b[0m",
      "\u001b[1;31mAttributeError\u001b[0m                            Traceback (most recent call last)",
      "\u001b[1;32m<ipython-input-8-935f3ef66ec2>\u001b[0m in \u001b[0;36m<module>\u001b[1;34m()\u001b[0m\n\u001b[0;32m      3\u001b[0m \u001b[0mplot_model\u001b[0m\u001b[1;33m(\u001b[0m\u001b[0mmodel\u001b[0m\u001b[1;33m,\u001b[0m \u001b[0mto_file\u001b[0m\u001b[1;33m=\u001b[0m\u001b[1;34m'model.png'\u001b[0m\u001b[1;33m)\u001b[0m\u001b[1;33m\u001b[0m\u001b[0m\n\u001b[0;32m      4\u001b[0m \u001b[0mhistory\u001b[0m \u001b[1;33m=\u001b[0m \u001b[0mHistory\u001b[0m\u001b[1;33m(\u001b[0m\u001b[1;33m)\u001b[0m\u001b[1;33m\u001b[0m\u001b[0m\n\u001b[1;32m----> 5\u001b[1;33m \u001b[0mprint\u001b[0m\u001b[1;33m(\u001b[0m\u001b[0mhistory\u001b[0m\u001b[1;33m.\u001b[0m\u001b[0mhistory\u001b[0m\u001b[1;33m.\u001b[0m\u001b[0mkeys\u001b[0m\u001b[1;33m(\u001b[0m\u001b[1;33m)\u001b[0m\u001b[1;33m)\u001b[0m\u001b[1;33m\u001b[0m\u001b[0m\n\u001b[0m\u001b[0;32m      6\u001b[0m \u001b[1;31m# summarize history for accuracy\u001b[0m\u001b[1;33m\u001b[0m\u001b[1;33m\u001b[0m\u001b[0m\n\u001b[0;32m      7\u001b[0m \u001b[0mplt\u001b[0m\u001b[1;33m.\u001b[0m\u001b[0mplot\u001b[0m\u001b[1;33m(\u001b[0m\u001b[0mhistory\u001b[0m\u001b[1;33m.\u001b[0m\u001b[0mhistory\u001b[0m\u001b[1;33m[\u001b[0m\u001b[1;34m'acc'\u001b[0m\u001b[1;33m]\u001b[0m\u001b[1;33m)\u001b[0m\u001b[1;33m\u001b[0m\u001b[0m\n",
      "\u001b[1;31mAttributeError\u001b[0m: 'History' object has no attribute 'history'"
     ]
    }
   ],
   "source": [
    "\n",
    "\n",
    "plot_model(model, to_file='model.png')\n",
    "history = History()\n",
    "print(history.history.keys())\n",
    "# summarize history for accuracy\n",
    "plt.plot(history.history['acc'])\n",
    "plt.plot(history.history['val_acc'])\n",
    "plt.title('model accuracy')\n",
    "plt.ylabel('accuracy')\n",
    "plt.xlabel('epoch')\n",
    "plt.legend(['train', 'test'], loc='upper left')\n",
    "plt.show()\n",
    "\n",
    "\n",
    "# summarize history for loss\n",
    "plt.plot(history.history['loss'])\n",
    "plt.plot(history.history['val_loss'])\n",
    "plt.title('model loss')\n",
    "plt.ylabel('loss')\n",
    "plt.xlabel('epoch')\n",
    "plt.legend(['train', 'test'], loc='upper left')\n",
    "plt.show()\n",
    "\n",
    "\n",
    "testp = test_data.flow_from_directory('testC',target_size=(224,224), batch_size=64,class_mode='categorical',shuffle=False)        \n",
    "t_pred = model.predict_generator(testp)\n",
    "pred = np.argmax(t_pred, axis=1)\n",
    "print(pred)\n",
    "print('Confusion Matrix')\n",
    "conf = confusion_matrix(testp.classes, pred)\n",
    "print(conf)\n",
    "print(str(conf))\n",
    "print('Classification Report')\n",
    "target_names = ['0', '1', '2', '3', '4', '5','6', '7', '8', '9']\n",
    "for k in range(10,171):\n",
    "    k1=k\n",
    "    target_names.append(str(k1))\n",
    "f1 = classification_report(testp.classes, pred, target_names=target_names)\n",
    "print(f1)\n",
    "\n",
    "\n",
    "plt.imshow(conf, cmap=plt.cm.Blues)\n",
    "plt.xlabel(\"Predicted labels\")\n",
    "plt.ylabel(\"True labels\")\n",
    "plt.xticks([], [])\n",
    "plt.yticks([], [])\n",
    "plt.title('Confusion matrix ')\n",
    "plt.colorbar()\n",
    "plt.show()\n",
    "print(model.summary())   \n"
   ]
  },
  {
   "cell_type": "code",
   "execution_count": null,
   "metadata": {},
   "outputs": [],
   "source": [
    "import keras as k\n",
    "print(k.__version__)"
   ]
  },
  {
   "cell_type": "code",
   "execution_count": 9,
   "metadata": {},
   "outputs": [],
   "source": [
    "plot_model(model, to_file='model.png')"
   ]
  },
  {
   "cell_type": "code",
   "execution_count": 10,
   "metadata": {},
   "outputs": [
    {
     "name": "stdout",
     "output_type": "stream",
     "text": [
      "_________________________________________________________________\n",
      "Layer (type)                 Output Shape              Param #   \n",
      "=================================================================\n",
      "conv2d_1 (Conv2D)            (None, 224, 224, 32)      896       \n",
      "_________________________________________________________________\n",
      "max_pooling2d_1 (MaxPooling2 (None, 112, 112, 32)      0         \n",
      "_________________________________________________________________\n",
      "conv2d_2 (Conv2D)            (None, 112, 112, 32)      9248      \n",
      "_________________________________________________________________\n",
      "dropout_1 (Dropout)          (None, 112, 112, 32)      0         \n",
      "_________________________________________________________________\n",
      "max_pooling2d_2 (MaxPooling2 (None, 56, 56, 32)        0         \n",
      "_________________________________________________________________\n",
      "conv2d_3 (Conv2D)            (None, 56, 56, 64)        18496     \n",
      "_________________________________________________________________\n",
      "dropout_2 (Dropout)          (None, 56, 56, 64)        0         \n",
      "_________________________________________________________________\n",
      "max_pooling2d_3 (MaxPooling2 (None, 28, 28, 64)        0         \n",
      "_________________________________________________________________\n",
      "conv2d_4 (Conv2D)            (None, 28, 28, 64)        36928     \n",
      "_________________________________________________________________\n",
      "dropout_3 (Dropout)          (None, 28, 28, 64)        0         \n",
      "_________________________________________________________________\n",
      "max_pooling2d_4 (MaxPooling2 (None, 14, 14, 64)        0         \n",
      "_________________________________________________________________\n",
      "conv2d_5 (Conv2D)            (None, 14, 14, 128)       73856     \n",
      "_________________________________________________________________\n",
      "dropout_4 (Dropout)          (None, 14, 14, 128)       0         \n",
      "_________________________________________________________________\n",
      "max_pooling2d_5 (MaxPooling2 (None, 7, 7, 128)         0         \n",
      "_________________________________________________________________\n",
      "conv2d_6 (Conv2D)            (None, 7, 7, 512)         590336    \n",
      "_________________________________________________________________\n",
      "dropout_5 (Dropout)          (None, 7, 7, 512)         0         \n",
      "_________________________________________________________________\n",
      "max_pooling2d_6 (MaxPooling2 (None, 3, 3, 512)         0         \n",
      "_________________________________________________________________\n",
      "flatten_1 (Flatten)          (None, 4608)              0         \n",
      "_________________________________________________________________\n",
      "dense_1 (Dense)              (None, 1024)              4719616   \n",
      "_________________________________________________________________\n",
      "dropout_6 (Dropout)          (None, 1024)              0         \n",
      "_________________________________________________________________\n",
      "dense_2 (Dense)              (None, 512)               524800    \n",
      "_________________________________________________________________\n",
      "dense_3 (Dense)              (None, 171)               87723     \n",
      "=================================================================\n",
      "Total params: 6,061,899\n",
      "Trainable params: 6,061,899\n",
      "Non-trainable params: 0\n",
      "_________________________________________________________________\n",
      "None\n"
     ]
    }
   ],
   "source": [
    "print(model.summary())"
   ]
  },
  {
   "cell_type": "code",
   "execution_count": null,
   "metadata": {},
   "outputs": [],
   "source": []
  }
 ],
 "metadata": {
  "kernelspec": {
   "display_name": "Python 3",
   "language": "python",
   "name": "python3"
  },
  "language_info": {
   "codemirror_mode": {
    "name": "ipython",
    "version": 3
   },
   "file_extension": ".py",
   "mimetype": "text/x-python",
   "name": "python",
   "nbconvert_exporter": "python",
   "pygments_lexer": "ipython3",
   "version": "3.6.6"
  }
 },
 "nbformat": 4,
 "nbformat_minor": 2
}
