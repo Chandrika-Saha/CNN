{
 "cells": [
  {
   "cell_type": "code",
   "execution_count": 1,
   "metadata": {},
   "outputs": [
    {
     "name": "stderr",
     "output_type": "stream",
     "text": [
      "E:\\Users\\Arnab\\Anaconda3\\Lib\\site-packages\\h5py\\__init__.py:36: FutureWarning: Conversion of the second argument of issubdtype from `float` to `np.floating` is deprecated. In future, it will be treated as `np.float64 == np.dtype(float).type`.\n",
      "  from ._conv import register_converters as _register_converters\n",
      "Using TensorFlow backend.\n"
     ]
    }
   ],
   "source": [
    "from keras.applications.vgg16 import VGG16\n",
    "from keras.models import Sequential\n",
    "from keras.optimizers import Adam\n",
    "from keras.optimizers import SGD\n",
    "from keras.optimizers import Adam\n",
    "from keras.layers import Conv2D, MaxPooling2D, Flatten, Dense, Dropout\n",
    "from keras.preprocessing.image import ImageDataGenerator\n",
    "import time\n",
    "from keras.callbacks import TensorBoard\n",
    "import numpy as np\n",
    "from sklearn.metrics import classification_report, confusion_matrix\n",
    "from keras.callbacks import History\n",
    "#from keras.models import Sequential\n",
    "#from keras.layers import Conv2D, MaxPooling2D, Flatten, Dense, Dropout\n",
    "from keras.preprocessing.image import ImageDataGenerator\n",
    "from matplotlib import pyplot as plt"
   ]
  },
  {
   "cell_type": "code",
   "execution_count": 2,
   "metadata": {},
   "outputs": [],
   "source": [
    "model = Sequential()\n",
    "model_new = VGG16(include_top=False, weights=None, input_shape=(224,224,3))\n",
    "model.add(model_new)"
   ]
  },
  {
   "cell_type": "code",
   "execution_count": 3,
   "metadata": {},
   "outputs": [
    {
     "name": "stdout",
     "output_type": "stream",
     "text": [
      "_________________________________________________________________\n",
      "Layer (type)                 Output Shape              Param #   \n",
      "=================================================================\n",
      "vgg16 (Model)                (None, 7, 7, 512)         14714688  \n",
      "=================================================================\n",
      "Total params: 14,714,688\n",
      "Trainable params: 14,714,688\n",
      "Non-trainable params: 0\n",
      "_________________________________________________________________\n",
      "None\n"
     ]
    }
   ],
   "source": [
    "print(model.summary())"
   ]
  },
  {
   "cell_type": "code",
   "execution_count": 4,
   "metadata": {},
   "outputs": [
    {
     "name": "stdout",
     "output_type": "stream",
     "text": [
      "Bangla_Compound_VGG16-conv_layers-conv-dense_layers-dense-1550162591\n"
     ]
    }
   ],
   "source": [
    "NAME = \"Bangla_Compound_VGG16-{}-conv-{}-dense-{}\".format(\"conv_layers\",\"dense_layers\",int(time.time()))\n",
    "print(NAME)\n",
    "tensorboard = TensorBoard(log_dir='logs/{}'.format(NAME), histogram_freq=0, write_images=True, write_graph=True, update_freq='epoch')\n",
    "\n"
   ]
  },
  {
   "cell_type": "code",
   "execution_count": 5,
   "metadata": {},
   "outputs": [
    {
     "name": "stdout",
     "output_type": "stream",
     "text": [
      "Found 33282 images belonging to 171 classes.\n",
      "Found 8254 images belonging to 171 classes.\n"
     ]
    }
   ],
   "source": [
    "train_data = ImageDataGenerator(rescale=1./255)\n",
    "test_data = ImageDataGenerator(rescale=1./255)\n",
    "\n",
    "training = train_data.flow_from_directory('trainC',target_size=(224,224), batch_size=16,class_mode='categorical')\n",
    "test = test_data.flow_from_directory('testC',target_size=(224,224), batch_size=16,class_mode='categorical')\n"
   ]
  },
  {
   "cell_type": "code",
   "execution_count": 6,
   "metadata": {},
   "outputs": [
    {
     "name": "stdout",
     "output_type": "stream",
     "text": [
      "Epoch 1/30\n",
      "2081/2081 [==============================] - 1195s 574ms/step - loss: 3.9020 - acc: 0.1823 - val_loss: 2.1543 - val_acc: 0.4575\n",
      "Epoch 2/30\n",
      "2081/2081 [==============================] - 1193s 573ms/step - loss: 1.5086 - acc: 0.6059 - val_loss: 1.3208 - val_acc: 0.6436\n",
      "Epoch 3/30\n",
      "2081/2081 [==============================] - 1189s 571ms/step - loss: 0.8104 - acc: 0.7730 - val_loss: 1.0343 - val_acc: 0.7275\n",
      "Epoch 4/30\n",
      "2081/2081 [==============================] - 1176s 565ms/step - loss: 0.4626 - acc: 0.8633 - val_loss: 0.9511 - val_acc: 0.7532\n",
      "Epoch 5/30\n",
      "2081/2081 [==============================] - 1176s 565ms/step - loss: 0.2681 - acc: 0.9198 - val_loss: 0.9392 - val_acc: 0.7627\n",
      "Epoch 6/30\n",
      "2081/2081 [==============================] - 1176s 565ms/step - loss: 0.1831 - acc: 0.9421 - val_loss: 1.0517 - val_acc: 0.7761\n",
      "Epoch 7/30\n",
      "2081/2081 [==============================] - 1176s 565ms/step - loss: 0.1381 - acc: 0.9565 - val_loss: 1.0311 - val_acc: 0.7780\n",
      "Epoch 8/30\n",
      "2081/2081 [==============================] - 1176s 565ms/step - loss: 0.1122 - acc: 0.9648 - val_loss: 1.0106 - val_acc: 0.8051\n",
      "Epoch 9/30\n",
      "2081/2081 [==============================] - 1176s 565ms/step - loss: 0.0958 - acc: 0.9697 - val_loss: 0.9591 - val_acc: 0.8065\n",
      "Epoch 10/30\n",
      "2081/2081 [==============================] - 1176s 565ms/step - loss: 0.0784 - acc: 0.9761 - val_loss: 1.1652 - val_acc: 0.8005\n",
      "Epoch 11/30\n",
      "2081/2081 [==============================] - 1176s 565ms/step - loss: 0.0671 - acc: 0.9799 - val_loss: 1.0344 - val_acc: 0.8126\n",
      "Epoch 12/30\n",
      "2081/2081 [==============================] - 1176s 565ms/step - loss: 0.0557 - acc: 0.9832 - val_loss: 0.9954 - val_acc: 0.8243\n",
      "Epoch 13/30\n",
      "2081/2081 [==============================] - 1176s 565ms/step - loss: 0.0517 - acc: 0.9843 - val_loss: 0.9116 - val_acc: 0.8217\n",
      "Epoch 14/30\n",
      "2081/2081 [==============================] - 1176s 565ms/step - loss: 0.0418 - acc: 0.9875 - val_loss: 1.0251 - val_acc: 0.8252\n",
      "Epoch 15/30\n",
      "2081/2081 [==============================] - 1176s 565ms/step - loss: 0.0409 - acc: 0.9883 - val_loss: 0.9760 - val_acc: 0.8248\n",
      "Epoch 16/30\n",
      "2081/2081 [==============================] - 1174s 564ms/step - loss: 0.0371 - acc: 0.9892 - val_loss: 0.9159 - val_acc: 0.8361\n",
      "Epoch 17/30\n",
      "2081/2081 [==============================] - 1174s 564ms/step - loss: 0.0343 - acc: 0.9900 - val_loss: 0.8693 - val_acc: 0.8318\n",
      "Epoch 18/30\n",
      "2081/2081 [==============================] - 1174s 564ms/step - loss: 0.0307 - acc: 0.9908 - val_loss: 0.9574 - val_acc: 0.8333\n",
      "Epoch 19/30\n",
      "2081/2081 [==============================] - 1174s 564ms/step - loss: 0.0285 - acc: 0.9920 - val_loss: 0.9691 - val_acc: 0.8355\n",
      "Epoch 20/30\n",
      "2081/2081 [==============================] - 1174s 564ms/step - loss: 0.0258 - acc: 0.9923 - val_loss: 0.9470 - val_acc: 0.8351\n",
      "Epoch 21/30\n",
      "2081/2081 [==============================] - 1174s 564ms/step - loss: 0.0227 - acc: 0.9932 - val_loss: 0.9989 - val_acc: 0.8442\n",
      "Epoch 22/30\n",
      "2081/2081 [==============================] - 1172s 563ms/step - loss: 0.0216 - acc: 0.9937 - val_loss: 0.9199 - val_acc: 0.8475\n",
      "Epoch 23/30\n",
      "2081/2081 [==============================] - 1172s 563ms/step - loss: 0.0215 - acc: 0.9941 - val_loss: 0.8332 - val_acc: 0.8507\n",
      "Epoch 24/30\n",
      "2081/2081 [==============================] - 1171s 563ms/step - loss: 0.0176 - acc: 0.9949 - val_loss: 1.0641 - val_acc: 0.8349\n",
      "Epoch 25/30\n",
      "2081/2081 [==============================] - 1171s 563ms/step - loss: 0.0207 - acc: 0.9940 - val_loss: 0.8521 - val_acc: 0.8442\n",
      "Epoch 26/30\n",
      "2081/2081 [==============================] - 1173s 564ms/step - loss: 0.0165 - acc: 0.9958 - val_loss: 0.9493 - val_acc: 0.8466\n",
      "Epoch 27/30\n",
      "2081/2081 [==============================] - 1179s 567ms/step - loss: 0.0159 - acc: 0.9959 - val_loss: 0.8632 - val_acc: 0.8458\n",
      "Epoch 28/30\n",
      "2081/2081 [==============================] - 1175s 565ms/step - loss: 0.0149 - acc: 0.9956 - val_loss: 0.9090 - val_acc: 0.8580\n",
      "Epoch 29/30\n",
      "2081/2081 [==============================] - 1174s 564ms/step - loss: 0.0133 - acc: 0.9968 - val_loss: 0.8607 - val_acc: 0.8574\n",
      "Epoch 30/30\n",
      "2081/2081 [==============================] - 1175s 565ms/step - loss: 0.0160 - acc: 0.9953 - val_loss: 0.8169 - val_acc: 0.8527\n"
     ]
    },
    {
     "data": {
      "text/plain": [
       "<keras.callbacks.History at 0x128707b8>"
      ]
     },
     "execution_count": 6,
     "metadata": {},
     "output_type": "execute_result"
    }
   ],
   "source": [
    "model.add(Flatten())\n",
    "\n",
    "model.add(Dense(1024,activation=\"relu\"))\n",
    "\n",
    "model.add(Dense(512,activation=\"relu\"))\n",
    "model.add(Dense(units=171,activation=\"softmax\"))\n",
    "\n",
    "history = History()\n",
    "opt= Adam(lr=.00001)\n",
    "model.compile(optimizer=opt, loss = \"categorical_crossentropy\", metrics= [\"accuracy\"])\n",
    "\n",
    "model.fit_generator(training, epochs=30, validation_data=test, callbacks=[tensorboard,history])"
   ]
  },
  {
   "cell_type": "code",
   "execution_count": 10,
   "metadata": {},
   "outputs": [
    {
     "name": "stdout",
     "output_type": "stream",
     "text": [
      "dict_keys(['val_loss', 'val_acc', 'loss', 'acc'])\n"
     ]
    },
    {
     "data": {
      "image/png": "[encoded data removed]",
      "text/plain": [
       "<Figure size 432x288 with 1 Axes>"
      ]
     },
     "metadata": {},
     "output_type": "display_data"
    },
    {
     "data": {
      "image/png": "[encoded data removed]",
      "text/plain": [
       "<Figure size 432x288 with 1 Axes>"
      ]
     },
     "metadata": {},
     "output_type": "display_data"
    },
    {
     "name": "stdout",
     "output_type": "stream",
     "text": [
      "Found 8254 images belonging to 171 classes.\n",
      "[  0   0 107 ... 170 170 170]\n",
      "Confusion Matrix\n",
      "[[37  0  0 ...  0  1  0]\n",
      " [ 0 48  0 ...  0  0  0]\n",
      " [ 0  0 38 ...  0  0  0]\n",
      " ...\n",
      " [ 0  0  0 ... 45  0  0]\n",
      " [ 1  0  0 ...  0 30  1]\n",
      " [ 0  0  0 ...  0  0 44]]\n",
      "Classification Report\n",
      "             precision    recall  f1-score   support\n",
      "\n",
      "          0       0.90      0.74      0.81        50\n",
      "          1       0.86      0.96      0.91        50\n",
      "          2       0.84      0.79      0.82        48\n",
      "          3       0.94      0.98      0.96        47\n",
      "          4       0.94      0.80      0.86        40\n",
      "          5       0.85      0.88      0.87        52\n",
      "          6       0.98      0.93      0.95        43\n",
      "          7       0.77      0.88      0.82        41\n",
      "          8       0.82      0.88      0.85        41\n",
      "          9       0.92      0.88      0.90        40\n",
      "         10       0.88      0.94      0.91        47\n",
      "         11       0.89      0.80      0.84        49\n",
      "         12       0.81      0.94      0.87        50\n",
      "         13       0.89      0.95      0.92        44\n",
      "         14       0.89      0.98      0.93        42\n",
      "         15       0.77      0.86      0.81        50\n",
      "         16       0.88      0.94      0.91        47\n",
      "         17       0.80      0.88      0.83        40\n",
      "         18       0.83      0.66      0.73        44\n",
      "         19       0.86      0.75      0.80        48\n",
      "         20       0.82      0.94      0.87        48\n",
      "         21       0.93      0.89      0.91        47\n",
      "         22       0.89      0.72      0.80        47\n",
      "         23       0.98      0.82      0.89        56\n",
      "         24       0.83      0.90      0.86        48\n",
      "         25       0.93      0.91      0.92        43\n",
      "         26       0.93      0.95      0.94        42\n",
      "         27       0.96      0.90      0.93        49\n",
      "         28       0.90      0.88      0.89        41\n",
      "         29       0.84      0.94      0.89        50\n",
      "         30       0.93      0.74      0.82        50\n",
      "         31       0.77      0.75      0.76        53\n",
      "         32       0.80      0.81      0.80        43\n",
      "         33       0.63      0.75      0.68        56\n",
      "         34       0.81      0.82      0.82        57\n",
      "         35       0.92      0.96      0.94        49\n",
      "         36       0.69      0.76      0.72        78\n",
      "         37       0.82      0.93      0.87        40\n",
      "         38       0.88      0.60      0.71        58\n",
      "         39       0.78      0.86      0.82        44\n",
      "         40       0.76      0.93      0.84        45\n",
      "         41       0.95      0.95      0.95        43\n",
      "         42       0.93      0.85      0.89        46\n",
      "         43       0.87      0.89      0.88        45\n",
      "         44       0.89      0.89      0.89        45\n",
      "         45       0.93      0.87      0.90        46\n",
      "         46       0.91      0.95      0.93        44\n",
      "         47       0.85      0.97      0.91        40\n",
      "         48       0.98      0.84      0.90        49\n",
      "         49       0.98      0.94      0.96        49\n",
      "         50       0.95      0.77      0.85        47\n",
      "         51       0.93      0.80      0.86        50\n",
      "         52       0.75      0.87      0.81        67\n",
      "         53       0.82      0.89      0.86        47\n",
      "         54       1.00      0.82      0.90        44\n",
      "         55       0.97      0.88      0.93        42\n",
      "         56       0.93      0.70      0.80        54\n",
      "         57       0.98      0.96      0.97        50\n",
      "         58       0.51      0.89      0.65        44\n",
      "         59       0.93      0.93      0.93        45\n",
      "         60       0.84      0.66      0.74        41\n",
      "         61       0.87      0.89      0.88        46\n",
      "         62       0.86      0.90      0.88        48\n",
      "         63       0.91      0.85      0.88        48\n",
      "         64       0.76      0.96      0.85        49\n",
      "         65       0.75      0.92      0.83        50\n",
      "         66       0.96      0.94      0.95        48\n",
      "         67       0.86      0.88      0.87        50\n",
      "         68       0.90      0.86      0.88        50\n",
      "         69       0.80      0.92      0.85        51\n",
      "         70       0.89      0.98      0.94        52\n",
      "         71       0.98      0.93      0.95        56\n",
      "         72       0.95      0.98      0.97        58\n",
      "         73       0.90      0.96      0.93        47\n",
      "         74       0.95      0.88      0.91        48\n",
      "         75       0.84      0.62      0.71        52\n",
      "         76       0.95      0.88      0.91        48\n",
      "         77       0.98      0.98      0.98        54\n",
      "         78       0.85      0.88      0.86        50\n",
      "         79       0.84      0.85      0.84        54\n",
      "         80       0.94      0.98      0.96        48\n",
      "         81       0.70      0.70      0.70        40\n",
      "         82       0.80      0.72      0.76        50\n",
      "         83       0.90      0.88      0.89        43\n",
      "         84       0.66      0.81      0.73        43\n",
      "         85       0.72      0.86      0.78        50\n",
      "         86       0.95      0.84      0.89        49\n",
      "         87       0.89      0.94      0.91        50\n",
      "         88       0.95      0.78      0.86        50\n",
      "         89       0.79      0.92      0.85        49\n",
      "         90       0.76      0.80      0.78        40\n",
      "         91       0.61      0.86      0.72        50\n",
      "         92       0.81      0.96      0.88        50\n",
      "         93       0.80      0.75      0.77        52\n",
      "         94       0.88      0.92      0.90        48\n",
      "         95       0.79      0.76      0.77        58\n",
      "         96       0.75      0.75      0.75        40\n",
      "         97       0.84      0.78      0.81        41\n",
      "         98       0.87      0.94      0.90        50\n",
      "         99       0.89      0.89      0.89        44\n",
      "        100       0.81      0.86      0.83        50\n",
      "        101       0.86      0.88      0.87        50\n",
      "        102       0.79      0.90      0.84        50\n",
      "        103       0.72      0.88      0.79        69\n",
      "        104       0.74      0.80      0.77        40\n",
      "        105       0.90      0.88      0.89        49\n",
      "        106       0.70      0.60      0.65        52\n",
      "        107       0.65      0.90      0.76        50\n",
      "        108       1.00      0.90      0.95        50\n",
      "        109       0.86      0.56      0.67        54\n",
      "        110       0.88      0.57      0.70        40\n",
      "        111       0.94      0.96      0.95        50\n",
      "        112       0.93      0.84      0.88        50\n",
      "        113       0.76      0.90      0.83        50\n",
      "        114       0.92      0.90      0.91        50\n",
      "        115       0.82      0.82      0.82        49\n",
      "        116       0.82      0.75      0.78        48\n",
      "        117       0.88      0.64      0.74        45\n",
      "        118       0.98      0.92      0.95        50\n",
      "        119       0.85      0.92      0.88        50\n",
      "        120       0.90      0.90      0.90        50\n",
      "        121       0.58      0.84      0.69        43\n",
      "        122       0.96      0.96      0.96        49\n",
      "        123       0.98      0.87      0.92        47\n",
      "        124       0.88      1.00      0.93        50\n",
      "        125       0.85      0.97      0.91        40\n",
      "        126       0.88      0.93      0.90        40\n",
      "        127       0.98      0.92      0.95        49\n",
      "        128       0.71      0.69      0.70        54\n",
      "        129       0.82      0.94      0.88        49\n",
      "        130       0.92      0.90      0.91        40\n",
      "        131       0.68      0.78      0.73        50\n",
      "        132       0.98      0.94      0.96        50\n",
      "        133       0.88      0.88      0.88        50\n",
      "        134       0.88      0.77      0.82        57\n",
      "        135       0.75      0.87      0.80        61\n",
      "        136       1.00      0.80      0.89        50\n",
      "        137       0.90      0.88      0.89        50\n",
      "        138       0.86      0.65      0.74        49\n",
      "        139       0.77      0.94      0.85        50\n",
      "        140       0.75      0.68      0.71        44\n",
      "        141       0.72      0.84      0.78        45\n",
      "        142       0.69      0.77      0.73        47\n",
      "        143       0.74      0.64      0.69        50\n",
      "        144       0.69      0.91      0.78        53\n",
      "        145       0.95      0.79      0.86        48\n",
      "        146       0.98      0.89      0.93        47\n",
      "        147       0.84      0.86      0.85        50\n",
      "        148       0.88      0.70      0.78        40\n",
      "        149       0.84      0.68      0.75        47\n",
      "        150       0.76      0.89      0.82        44\n",
      "        151       0.98      0.85      0.91        48\n",
      "        152       1.00      0.96      0.98        46\n",
      "        153       0.97      0.83      0.90        47\n",
      "        154       0.92      0.91      0.91        53\n",
      "        155       0.94      0.90      0.92        50\n",
      "        156       0.88      0.82      0.85        44\n",
      "        157       0.88      0.90      0.89        40\n",
      "        158       0.91      0.89      0.90        44\n",
      "        159       0.92      0.90      0.91        50\n",
      "        160       0.95      0.73      0.83        56\n",
      "        161       0.90      0.88      0.89        51\n",
      "        162       0.96      0.92      0.94        48\n",
      "        163       0.93      0.89      0.91        45\n",
      "        164       0.95      0.93      0.94        45\n",
      "        165       0.89      0.66      0.76        50\n",
      "        166       0.96      0.96      0.96        47\n",
      "        167       0.98      0.94      0.96        47\n",
      "        168       0.92      0.78      0.84        58\n",
      "        169       0.86      0.62      0.72        48\n",
      "        170       0.88      0.90      0.89        49\n",
      "\n",
      "avg / total       0.86      0.85      0.85      8254\n",
      "\n"
     ]
    },
    {
     "data": {
      "image/png": "[encoded data removed]",
      "text/plain": [
       "<Figure size 432x288 with 2 Axes>"
      ]
     },
     "metadata": {},
     "output_type": "display_data"
    },
    {
     "name": "stdout",
     "output_type": "stream",
     "text": [
      "_________________________________________________________________\n",
      "Layer (type)                 Output Shape              Param #   \n",
      "=================================================================\n",
      "vgg16 (Model)                (None, 7, 7, 512)         14714688  \n",
      "_________________________________________________________________\n",
      "flatten_1 (Flatten)          (None, 25088)             0         \n",
      "_________________________________________________________________\n",
      "dense_1 (Dense)              (None, 1024)              25691136  \n",
      "_________________________________________________________________\n",
      "dense_2 (Dense)              (None, 512)               524800    \n",
      "_________________________________________________________________\n",
      "dense_3 (Dense)              (None, 171)               87723     \n",
      "=================================================================\n",
      "Total params: 41,018,347\n",
      "Trainable params: 41,018,347\n",
      "Non-trainable params: 0\n",
      "_________________________________________________________________\n",
      "None\n"
     ]
    },
    {
     "data": {
      "text/plain": [
       "<Figure size 432x288 with 0 Axes>"
      ]
     },
     "metadata": {},
     "output_type": "display_data"
    }
   ],
   "source": [
    "\n",
    "print(history.history.keys())\n",
    "# summarize history for accuracy\n",
    "plt.plot(history.history['acc'])\n",
    "plt.plot(history.history['val_acc'])\n",
    "plt.title('model accuracy')\n",
    "plt.ylabel('accuracy')\n",
    "plt.xlabel('epoch')\n",
    "plt.legend(['train', 'test'], loc='upper left')\n",
    "plt.show()\n",
    "\n",
    "# summarize history for loss\n",
    "plt.plot(history.history['loss'])\n",
    "plt.plot(history.history['val_loss'])\n",
    "plt.title('model loss')\n",
    "plt.ylabel('loss')\n",
    "plt.xlabel('epoch')\n",
    "plt.legend(['train', 'test'], loc='upper left')\n",
    "plt.show()\n",
    "\n",
    "\n",
    "testp = test_data.flow_from_directory('testC',target_size=(224,224), batch_size=16,class_mode='categorical',shuffle=False)        \n",
    "t_pred = model.predict_generator(testp)\n",
    "pred = np.argmax(t_pred, axis=1)\n",
    "print(pred)\n",
    "print('Confusion Matrix')\n",
    "conf = confusion_matrix(testp.classes, pred)\n",
    "print(conf)\n",
    "print('Classification Report')\n",
    "target_names = ['0', '1', '2', '3', '4', '5','6', '7', '8', '9']\n",
    "for k in range(10,171):\n",
    "    k1=k\n",
    "    target_names.append(str(k1))\n",
    "f1 = classification_report(testp.classes, pred, target_names=target_names)\n",
    "print(f1)\n",
    "\n",
    "\n",
    "plt.imshow(conf, cmap=plt.cm.Blues)\n",
    "plt.xlabel(\"Predicted labels\")\n",
    "plt.ylabel(\"True labels\")\n",
    "plt.xticks([], [])\n",
    "plt.yticks([], [])\n",
    "plt.title('Confusion matrix ')\n",
    "plt.colorbar()\n",
    "plt.show()\n",
    "print(model.summary())   \n"
   ]
  },
  {
   "cell_type": "code",
   "execution_count": 8,
   "metadata": {},
   "outputs": [
    {
     "ename": "AttributeError",
     "evalue": "module 'matplotlib.pyplot' has no attribute 'save'",
     "output_type": "error",
     "traceback": [
      "\u001b[1;31m---------------------------------------------------------------------------\u001b[0m",
      "\u001b[1;31mAttributeError\u001b[0m                            Traceback (most recent call last)",
      "\u001b[1;32m<ipython-input-8-b1d1c797c70f>\u001b[0m in \u001b[0;36m<module>\u001b[1;34m()\u001b[0m\n\u001b[1;32m----> 1\u001b[1;33m \u001b[0mplt\u001b[0m\u001b[1;33m.\u001b[0m\u001b[0msave\u001b[0m\u001b[1;33m(\u001b[0m\u001b[1;33m)\u001b[0m\u001b[1;33m\u001b[0m\u001b[0m\n\u001b[0m",
      "\u001b[1;31mAttributeError\u001b[0m: module 'matplotlib.pyplot' has no attribute 'save'"
     ]
    }
   ],
   "source": [
    "plt.save()"
   ]
  },
  {
   "cell_type": "code",
   "execution_count": 9,
   "metadata": {},
   "outputs": [
    {
     "data": {
      "text/plain": [
       "<Figure size 432x288 with 0 Axes>"
      ]
     },
     "metadata": {},
     "output_type": "display_data"
    }
   ],
   "source": [
    "plt.savefig(\"test.png\")"
   ]
  },
  {
   "cell_type": "code",
   "execution_count": null,
   "metadata": {},
   "outputs": [],
   "source": []
  }
 ],
 "metadata": {
  "kernelspec": {
   "display_name": "Python 3",
   "language": "python",
   "name": "python3"
  },
  "language_info": {
   "codemirror_mode": {
    "name": "ipython",
    "version": 3
   },
   "file_extension": ".py",
   "mimetype": "text/x-python",
   "name": "python",
   "nbconvert_exporter": "python",
   "pygments_lexer": "ipython3",
   "version": "3.6.6"
  }
 },
 "nbformat": 4,
 "nbformat_minor": 2
}
